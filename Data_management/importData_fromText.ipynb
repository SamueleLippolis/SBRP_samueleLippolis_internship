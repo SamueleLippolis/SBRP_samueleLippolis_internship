{
 "cells": [
  {
   "cell_type": "markdown",
   "metadata": {},
   "source": [
    "# Import data from text "
   ]
  },
  {
   "cell_type": "markdown",
   "metadata": {},
   "source": [
    "## Goal \n",
    "Take the data from text and import them in python \n",
    "\n",
    "## Shape of the text data\n",
    "\n",
    "### Nodes\n",
    "Each node has \n",
    "* id \n",
    "* label\n",
    "* pos (latitudine)\n",
    "* pos (longitudine)\n",
    "* tipologia -> deposito\n",
    "\n",
    "Moreover, the bus stop nodes have\n",
    "* *id*\n",
    "* *label*\n",
    "* *pos (latitudine)*\n",
    "* *pos (longitudine)*\n",
    "* *tipologia -> fermata*\n",
    "* locazione (via)\n",
    "* città (? id of the city)\n",
    "* ragazzi (ragazzi for the first cluster)\n",
    "* ragazzi (ragazzi for the second cluster)\n",
    "* ragazzi (ragazzi for the third cluster)\n",
    "* ragazzi (ragazzi for the fourth cluster)\n",
    "\n",
    "Then, the cluster node have\n",
    "* id \n",
    "* label\n",
    "* pos\n",
    "* pos\n",
    "* tipologia -> cluster \n",
    "* città\n",
    "\n",
    "### Edges \n",
    "Each edge has the following data   \n",
    "* source (from where the edge starts)\n",
    "* target (to where the edge arrives)\n",
    "* weight ( for instance 731.3711208488347, I would say it is the distance)\n",
    "* time (for instance 24.379037361627823, the time needed from the source to the target)"
   ]
  },
  {
   "cell_type": "code",
   "execution_count": 1,
   "metadata": {},
   "outputs": [],
   "source": [
    "import networkx as nx\n",
    "import pandas as pd"
   ]
  },
  {
   "cell_type": "markdown",
   "metadata": {},
   "source": [
    "# Import complete data\n",
    "\n",
    "## First version"
   ]
  },
  {
   "cell_type": "code",
   "execution_count": 3,
   "metadata": {},
   "outputs": [
    {
     "name": "stdout",
     "output_type": "stream",
     "text": [
      "[(0, {'id': 0, 'label': '0', 'pos': [13.33352521881336, 46.010049138194574], 'tipologia': 'deposito'}), (1, {'id': 1, 'label': '1', 'pos': [13.333070548499375, 46.011592135492116], 'tipologia': 'fermata', 'locazione': 'VIAIPPOLITONIEVO21', 'ragazzi': [2, 0]}), (2, {'id': 2, 'label': '2', 'pos': [13.332481034239262, 46.00685608068721], 'tipologia': 'fermata', 'locazione': 'VIABELTRAME23', 'ragazzi': [0, 17]}), (3, {'id': 3, 'label': '3', 'pos': [13.332006889588357, 46.011779665523946], 'tipologia': 'fermata', 'locazione': 'VIAGORIZIA17', 'ragazzi': [7, 4]}), (4, {'id': 4, 'label': '4', 'pos': [13.339888208550311, 46.01912388511622], 'tipologia': 'fermata', 'locazione': 'VIALIPPE,FERMATAN.7', 'ragazzi': [0, 2]}), (5, {'id': 5, 'label': '5', 'pos': [13.333202605873304, 46.018368509384324], 'tipologia': 'fermata', 'locazione': 'VIADEGANUTTI&#10;FERMATAN3', 'ragazzi': [0, 4]}), (6, {'id': 6, 'label': '6', 'pos': [13.340102597322604, 45.99918361441391], 'tipologia': 'fermata', 'locazione': 'VIAS.GIACOMOTABELLAN25', 'ragazzi': [0, 2]}), (7, {'id': 7, 'label': '7', 'pos': [13.330196205996709, 46.010729342446275], 'tipologia': 'fermata', 'locazione': \"VIAP.M.D'AVIANOFERMATAN&#176;21\", 'ragazzi': [0, 2]}), (8, {'id': 8, 'label': '8', 'pos': [13.336214629037375, 46.01918358742248], 'tipologia': 'fermata', 'locazione': 'VIASTEFANUTTI,FERMATA5', 'ragazzi': [0, 1]}), (9, {'id': 9, 'label': '9', 'pos': [13.339412764291803, 45.999314233519044], 'tipologia': 'fermata', 'locazione': 'VIATRIESTE13-FERMATA25', 'ragazzi': [0, 8]}), (10, {'id': 10, 'label': '10', 'pos': [13.328366466259409, 46.020028788257015], 'tipologia': 'fermata', 'locazione': 'VIAUDINEFERMATA36', 'ragazzi': [0, 1]}), (11, {'id': 11, 'label': '11', 'pos': [13.329696748576575, 46.01092472889287], 'tipologia': 'fermata', 'locazione': 'VIADIVISIONEJULIA,47', 'ragazzi': [0, 5]}), (12, {'id': 12, 'label': '12', 'pos': [13.335574744098832, 46.02091466197524], 'tipologia': 'fermata', 'locazione': 'VIAA.MANZONI-FERMATANR.34', 'ragazzi': [1, 3]}), (13, {'id': 13, 'label': '13', 'pos': [13.326947840304118, 46.01778681721185], 'tipologia': 'fermata', 'locazione': 'VIARONCUZ,FERMATA12', 'ragazzi': [0, 8]}), (14, {'id': 14, 'label': '14', 'pos': [13.329811696254819, 46.015173106898395], 'tipologia': 'fermata', 'locazione': 'VIAPRADAMANO,FERMATA13', 'ragazzi': [4, 7]}), (15, {'id': 15, 'label': '15', 'pos': [13.331240309217243, 46.008979472861995], 'tipologia': 'fermata', 'locazione': \"VIAP.M.D'AVIANOFERMATAN.20\", 'ragazzi': [0, 2]}), (16, {'id': 16, 'label': '16', 'pos': [13.337971, 46.000032], 'tipologia': 'cluster'}), (17, {'id': 17, 'label': '17', 'pos': [13.337188, 46.017635], 'tipologia': 'cluster'})]\n",
      "[(0, 1, {'weight': 360.0, 'time': 49.0}), (0, 2, {'weight': 866.0, 'time': 80.0}), (0, 3, {'weight': 165.0, 'time': 25.0}), (0, 4, {'weight': 1053.0, 'time': 93.0}), (0, 5, {'weight': 776.0, 'time': 78.0}), (0, 6, {'weight': 2103.0, 'time': 204.0}), (0, 7, {'weight': 254.0, 'time': 30.0}), (0, 8, {'weight': 951.0, 'time': 99.0}), (0, 9, {'weight': 1999.0, 'time': 182.0}), (0, 10, {'weight': 965.0, 'time': 88.0}), (0, 11, {'weight': 230.0, 'time': 21.0}), (0, 12, {'weight': 1577.0, 'time': 174.0}), (0, 13, {'weight': 868.0, 'time': 90.0}), (0, 14, {'weight': 407.0, 'time': 44.0}), (0, 15, {'weight': 481.0, 'time': 63.0}), (1, 2, {'weight': 1110.0, 'time': 129.0}), (1, 3, {'weight': 150.0, 'time': 26.0}), (1, 4, {'weight': 1236.0, 'time': 126.0}), (1, 5, {'weight': 958.0, 'time': 112.0}), (1, 6, {'weight': 2347.0, 'time': 253.0}), (1, 7, {'weight': 498.0, 'time': 79.0}), (1, 8, {'weight': 1133.0, 'time': 132.0}), (1, 9, {'weight': 2243.0, 'time': 230.0}), (1, 10, {'weight': 1148.0, 'time': 121.0}), (1, 11, {'weight': 474.0, 'time': 69.0}), (1, 12, {'weight': 1759.0, 'time': 207.0}), (1, 13, {'weight': 1051.0, 'time': 123.0}), (1, 14, {'weight': 590.0, 'time': 77.0}), (1, 15, {'weight': 725.0, 'time': 111.0}), (1, 16, {'weight': 2141.0, 'time': 217.0}), (1, 17, {'weight': 955.0, 'time': 103.0}), (2, 1, {'weight': 1048.0, 'time': 129.0}), (2, 3, {'weight': 898.0, 'time': 100.0}), (2, 4, {'weight': 1857.0, 'time': 174.0}), (2, 5, {'weight': 1580.0, 'time': 159.0}), (2, 6, {'weight': 1503.0, 'time': 168.0}), (2, 7, {'weight': 681.0, 'time': 77.0}), (2, 8, {'weight': 1755.0, 'time': 179.0}), (2, 9, {'weight': 1399.0, 'time': 145.0}), (2, 10, {'weight': 1769.0, 'time': 168.0}), (2, 11, {'weight': 574.0, 'time': 60.0}), (2, 12, {'weight': 2381.0, 'time': 255.0}), (2, 13, {'weight': 1554.0, 'time': 152.0}), (2, 14, {'weight': 1211.0, 'time': 125.0}), (2, 15, {'weight': 908.0, 'time': 110.0}), (2, 16, {'weight': 1296.0, 'time': 132.0}), (2, 17, {'weight': 1576.0, 'time': 151.0}), (3, 1, {'weight': 150.0, 'time': 28.0}), (3, 2, {'weight': 960.0, 'time': 102.0}), (3, 4, {'weight': 1218.0, 'time': 116.0}), (3, 5, {'weight': 940.0, 'time': 101.0}), (3, 6, {'weight': 2197.0, 'time': 227.0}), (3, 7, {'weight': 348.0, 'time': 52.0}), (3, 8, {'weight': 1116.0, 'time': 121.0}), (3, 9, {'weight': 2093.0, 'time': 204.0}), (3, 10, {'weight': 1130.0, 'time': 110.0}), (3, 11, {'weight': 324.0, 'time': 43.0}), (3, 12, {'weight': 1742.0, 'time': 197.0}), (3, 13, {'weight': 1033.0, 'time': 113.0}), (3, 14, {'weight': 572.0, 'time': 67.0}), (3, 15, {'weight': 575.0, 'time': 85.0}), (3, 16, {'weight': 1991.0, 'time': 191.0}), (3, 17, {'weight': 937.0, 'time': 92.0}), (4, 1, {'weight': 1236.0, 'time': 130.0}), (4, 2, {'weight': 1919.0, 'time': 173.0}), (4, 3, {'weight': 1218.0, 'time': 118.0}), (4, 5, {'weight': 673.0, 'time': 64.0}), (4, 6, {'weight': 3156.0, 'time': 298.0}), (4, 7, {'weight': 1307.0, 'time': 123.0}), (4, 8, {'weight': 402.0, 'time': 40.0}), (4, 9, {'weight': 3052.0, 'time': 275.0}), (4, 10, {'weight': 1298.0, 'time': 121.0}), (4, 11, {'weight': 1283.0, 'time': 114.0}), (4, 12, {'weight': 524.0, 'time': 81.0}), (4, 13, {'weight': 1320.0, 'time': 124.0}), (4, 14, {'weight': 1112.0, 'time': 98.0}), (4, 15, {'weight': 1534.0, 'time': 156.0}), (4, 16, {'weight': 2950.0, 'time': 262.0}), (4, 17, {'weight': 281.0, 'time': 23.0}), (5, 1, {'weight': 1024.0, 'time': 132.0}), (5, 2, {'weight': 1708.0, 'time': 175.0}), (5, 3, {'weight': 1007.0, 'time': 120.0}), (5, 4, {'weight': 673.0, 'time': 67.0}), (5, 6, {'weight': 2945.0, 'time': 300.0}), (5, 7, {'weight': 1096.0, 'time': 125.0}), (5, 8, {'weight': 386.0, 'time': 50.0}), (5, 9, {'weight': 2841.0, 'time': 277.0}), (5, 10, {'weight': 607.0, 'time': 58.0}), (5, 11, {'weight': 1072.0, 'time': 116.0}), (5, 12, {'weight': 939.0, 'time': 139.0}), (5, 13, {'weight': 858.0, 'time': 83.0}), (5, 14, {'weight': 800.0, 'time': 83.0}), (5, 15, {'weight': 1323.0, 'time': 158.0}), (5, 16, {'weight': 2739.0, 'time': 264.0}), (5, 17, {'weight': 590.0, 'time': 63.0}), (6, 1, {'weight': 2285.0, 'time': 250.0}), (6, 2, {'weight': 1503.0, 'time': 170.0}), (6, 3, {'weight': 2135.0, 'time': 222.0}), (6, 4, {'weight': 3094.0, 'time': 296.0}), (6, 5, {'weight': 2817.0, 'time': 281.0}), (6, 7, {'weight': 1918.0, 'time': 198.0}), (6, 8, {'weight': 2992.0, 'time': 301.0}), (6, 9, {'weight': 104.0, 'time': 21.0}), (6, 10, {'weight': 3006.0, 'time': 290.0}), (6, 11, {'weight': 1811.0, 'time': 182.0}), (6, 12, {'weight': 3618.0, 'time': 377.0}), (6, 13, {'weight': 2791.0, 'time': 273.0}), (6, 14, {'weight': 2448.0, 'time': 246.0}), (6, 15, {'weight': 1513.0, 'time': 199.0}), (6, 16, {'weight': 254.0, 'time': 47.0}), (6, 17, {'weight': 2813.0, 'time': 272.0}), (7, 1, {'weight': 496.0, 'time': 76.0}), (7, 2, {'weight': 501.0, 'time': 76.0}), (7, 3, {'weight': 346.0, 'time': 48.0}), (7, 4, {'weight': 1305.0, 'time': 122.0}), (7, 5, {'weight': 1028.0, 'time': 107.0}), (7, 6, {'weight': 1738.0, 'time': 200.0}), (7, 8, {'weight': 1203.0, 'time': 127.0}), (7, 9, {'weight': 1634.0, 'time': 178.0}), (7, 10, {'weight': 1217.0, 'time': 116.0}), (7, 11, {'weight': 134.0, 'time': 22.0}), (7, 12, {'weight': 1829.0, 'time': 203.0}), (7, 13, {'weight': 1120.0, 'time': 118.0}), (7, 14, {'weight': 659.0, 'time': 72.0}), (7, 15, {'weight': 227.0, 'time': 33.0}), (7, 16, {'weight': 1532.0, 'time': 164.0}), (7, 17, {'weight': 1024.0, 'time': 98.0}), (8, 1, {'weight': 1273.0, 'time': 147.0}), (8, 2, {'weight': 1957.0, 'time': 191.0}), (8, 3, {'weight': 1256.0, 'time': 136.0}), (8, 4, {'weight': 402.0, 'time': 45.0}), (8, 5, {'weight': 386.0, 'time': 45.0}), (8, 6, {'weight': 3194.0, 'time': 315.0}), (8, 7, {'weight': 1345.0, 'time': 141.0}), (8, 9, {'weight': 3090.0, 'time': 292.0}), (8, 10, {'weight': 1010.0, 'time': 101.0}), (8, 11, {'weight': 1321.0, 'time': 132.0}), (8, 12, {'weight': 602.0, 'time': 97.0}), (8, 13, {'weight': 1033.0, 'time': 104.0}), (8, 14, {'weight': 976.0, 'time': 105.0}), (8, 15, {'weight': 1572.0, 'time': 174.0}), (8, 16, {'weight': 2988.0, 'time': 279.0}), (8, 17, {'weight': 319.0, 'time': 41.0}), (9, 1, {'weight': 2181.0, 'time': 230.0}), (9, 2, {'weight': 1399.0, 'time': 149.0}), (9, 3, {'weight': 2031.0, 'time': 201.0}), (9, 4, {'weight': 2990.0, 'time': 275.0}), (9, 5, {'weight': 2713.0, 'time': 260.0}), (9, 6, {'weight': 104.0, 'time': 23.0}), (9, 7, {'weight': 1814.0, 'time': 178.0}), (9, 8, {'weight': 2888.0, 'time': 280.0}), (9, 10, {'weight': 2902.0, 'time': 269.0}), (9, 11, {'weight': 1707.0, 'time': 161.0}), (9, 12, {'weight': 3514.0, 'time': 356.0}), (9, 13, {'weight': 2687.0, 'time': 252.0}), (9, 14, {'weight': 2344.0, 'time': 226.0}), (9, 15, {'weight': 1409.0, 'time': 178.0}), (9, 16, {'weight': 150.0, 'time': 26.0}), (9, 17, {'weight': 2709.0, 'time': 251.0}), (10, 1, {'weight': 1161.0, 'time': 131.0}), (10, 2, {'weight': 1845.0, 'time': 174.0}), (10, 3, {'weight': 1144.0, 'time': 119.0}), (10, 4, {'weight': 1242.0, 'time': 121.0}), (10, 5, {'weight': 569.0, 'time': 54.0}), (10, 6, {'weight': 3082.0, 'time': 299.0}), (10, 7, {'weight': 1232.0, 'time': 124.0}), (10, 8, {'weight': 955.0, 'time': 103.0}), (10, 9, {'weight': 2978.0, 'time': 276.0}), (10, 11, {'weight': 1209.0, 'time': 115.0}), (10, 12, {'weight': 1508.0, 'time': 192.0}), (10, 13, {'weight': 489.0, 'time': 50.0}), (10, 14, {'weight': 571.0, 'time': 51.0}), (10, 15, {'weight': 1459.0, 'time': 157.0}), (10, 16, {'weight': 2875.0, 'time': 262.0}), (10, 17, {'weight': 1159.0, 'time': 117.0}), (11, 1, {'weight': 474.0, 'time': 69.0}), (11, 2, {'weight': 636.0, 'time': 59.0}), (11, 3, {'weight': 324.0, 'time': 40.0}), (11, 4, {'weight': 1283.0, 'time': 114.0}), (11, 5, {'weight': 1006.0, 'time': 99.0}), (11, 6, {'weight': 1873.0, 'time': 184.0}), (11, 7, {'weight': 107.0, 'time': 17.0}), (11, 8, {'weight': 1181.0, 'time': 119.0}), (11, 9, {'weight': 1769.0, 'time': 161.0}), (11, 10, {'weight': 1195.0, 'time': 108.0}), (11, 12, {'weight': 1807.0, 'time': 195.0}), (11, 13, {'weight': 1098.0, 'time': 111.0}), (11, 14, {'weight': 637.0, 'time': 65.0}), (11, 15, {'weight': 334.0, 'time': 50.0}), (11, 16, {'weight': 1667.0, 'time': 148.0}), (11, 17, {'weight': 1002.0, 'time': 90.0}), (12, 1, {'weight': 1759.0, 'time': 208.0}), (12, 2, {'weight': 2443.0, 'time': 251.0}), (12, 3, {'weight': 1742.0, 'time': 196.0}), (12, 4, {'weight': 524.0, 'time': 78.0}), (12, 5, {'weight': 939.0, 'time': 128.0}), (12, 6, {'weight': 3680.0, 'time': 375.0}), (12, 7, {'weight': 1830.0, 'time': 201.0}), (12, 8, {'weight': 602.0, 'time': 95.0}), (12, 9, {'weight': 3576.0, 'time': 353.0}), (12, 10, {'weight': 1564.0, 'time': 184.0}), (12, 11, {'weight': 1807.0, 'time': 192.0}), (12, 13, {'weight': 1586.0, 'time': 187.0}), (12, 14, {'weight': 1636.0, 'time': 176.0}), (12, 15, {'weight': 2057.0, 'time': 234.0}), (12, 16, {'weight': 3473.0, 'time': 339.0}), (12, 17, {'weight': 804.0, 'time': 101.0}), (13, 1, {'weight': 1051.0, 'time': 126.0}), (13, 2, {'weight': 1544.0, 'time': 148.0}), (13, 3, {'weight': 1033.0, 'time': 114.0}), (13, 4, {'weight': 1362.0, 'time': 138.0}), (13, 5, {'weight': 1058.0, 'time': 105.0}), (13, 6, {'weight': 2781.0, 'time': 272.0}), (13, 7, {'weight': 1122.0, 'time': 120.0}), (13, 8, {'weight': 1260.0, 'time': 143.0}), (13, 9, {'weight': 2677.0, 'time': 250.0}), (13, 10, {'weight': 489.0, 'time': 51.0}), (13, 11, {'weight': 1098.0, 'time': 110.0}), (13, 12, {'weight': 1886.0, 'time': 219.0}), (13, 14, {'weight': 461.0, 'time': 47.0}), (13, 15, {'weight': 1349.0, 'time': 152.0}), (13, 16, {'weight': 2574.0, 'time': 236.0}), (13, 17, {'weight': 1081.0, 'time': 114.0}), (14, 1, {'weight': 590.0, 'time': 79.0}), (14, 2, {'weight': 1274.0, 'time': 123.0}), (14, 3, {'weight': 572.0, 'time': 68.0}), (14, 4, {'weight': 1112.0, 'time': 100.0}), (14, 5, {'weight': 835.0, 'time': 85.0}), (14, 6, {'weight': 2510.0, 'time': 247.0}), (14, 7, {'weight': 661.0, 'time': 73.0}), (14, 8, {'weight': 1010.0, 'time': 105.0}), (14, 9, {'weight': 2407.0, 'time': 225.0}), (14, 10, {'weight': 571.0, 'time': 52.0}), (14, 11, {'weight': 637.0, 'time': 64.0}), (14, 12, {'weight': 1636.0, 'time': 181.0}), (14, 13, {'weight': 461.0, 'time': 46.0}), (14, 15, {'weight': 888.0, 'time': 106.0}), (14, 16, {'weight': 2304.0, 'time': 211.0}), (14, 17, {'weight': 832.0, 'time': 77.0}), (15, 1, {'weight': 723.0, 'time': 109.0}), (15, 2, {'weight': 274.0, 'time': 44.0}), (15, 3, {'weight': 573.0, 'time': 81.0}), (15, 4, {'weight': 1532.0, 'time': 154.0}), (15, 5, {'weight': 1254.0, 'time': 140.0}), (15, 6, {'weight': 1512.0, 'time': 168.0}), (15, 7, {'weight': 227.0, 'time': 33.0}), (15, 8, {'weight': 1430.0, 'time': 160.0}), (15, 9, {'weight': 1408.0, 'time': 145.0}), (15, 10, {'weight': 1444.0, 'time': 149.0}), (15, 11, {'weight': 361.0, 'time': 55.0}), (15, 12, {'weight': 2056.0, 'time': 235.0}), (15, 13, {'weight': 1517.0, 'time': 148.0}), (15, 14, {'weight': 886.0, 'time': 105.0}), (15, 16, {'weight': 1305.0, 'time': 132.0}), (15, 17, {'weight': 1251.0, 'time': 131.0}), (16, 17, {'weight': 2607.0, 'time': 241.0}), (16, 0, {'weight': 0.0, 'time': 0.0}), (17, 16, {'weight': 2669.0, 'time': 238.0}), (17, 0, {'weight': 0.0, 'time': 0.0})]\n"
     ]
    }
   ],
   "source": [
    "def parse_graph(file_content):\n",
    "    nodes = {}\n",
    "    edges = []\n",
    "\n",
    "    current_node = None\n",
    "    current_edge = None\n",
    "\n",
    "    for line in file_content.splitlines():\n",
    "        line = line.strip()\n",
    "        if line.startswith(\"node\"):\n",
    "            current_node = {}\n",
    "        elif line.startswith(\"edge\"):\n",
    "            current_edge = {}\n",
    "        elif line.startswith(\"id\"):\n",
    "            current_node['id'] = int(line.split()[1])\n",
    "        elif line.startswith(\"label\"):\n",
    "            current_node['label'] = line.split()[1].strip('\"')\n",
    "        elif line.startswith(\"pos\"):\n",
    "            if 'pos' in current_node:\n",
    "                current_node['pos'].append(float(line.split()[1]))\n",
    "            else:\n",
    "                current_node['pos'] = [float(line.split()[1])]\n",
    "        elif line.startswith(\"tipologia\"):\n",
    "            current_node['tipologia'] = line.split()[1].strip('\"')\n",
    "        elif line.startswith(\"locazione\"):\n",
    "            current_node['locazione'] = line.split()[1].strip('\"')\n",
    "        elif line.startswith(\"citta\"):\n",
    "            current_node['citta'] = int(line.split()[1])\n",
    "        elif line.startswith(\"ragazzi\"):\n",
    "            if 'ragazzi' in current_node:\n",
    "                current_node['ragazzi'].append(int(line.split()[1]))\n",
    "            else:\n",
    "                current_node['ragazzi'] = [int(line.split()[1])]\n",
    "        elif line.startswith(\"source\"):\n",
    "            current_edge['source'] = int(line.split()[1])\n",
    "        elif line.startswith(\"target\"):\n",
    "            current_edge['target'] = int(line.split()[1])\n",
    "        elif line.startswith(\"weight\"):\n",
    "            current_edge['weight'] = float(line.split()[1])\n",
    "        elif line.startswith(\"time\"):\n",
    "            current_edge['time'] = float(line.split()[1])\n",
    "        elif line == \"]\":\n",
    "            if current_node is not None:\n",
    "                nodes[current_node['id']] = current_node\n",
    "                current_node = None\n",
    "            if current_edge is not None:\n",
    "                edges.append(current_edge)\n",
    "                current_edge = None\n",
    "\n",
    "    return nodes, edges\n",
    "\n",
    "def create_graph(nodes, edges):\n",
    "    G = nx.DiGraph()  # Create a directed graph\n",
    "\n",
    "    for node_id, node_data in nodes.items():\n",
    "        G.add_node(node_id, **node_data)\n",
    "\n",
    "    for edge in edges:\n",
    "        G.add_edge(edge['source'], edge['target'], weight=edge['weight'], time=edge['time'])\n",
    "\n",
    "    return G\n",
    "\n",
    "# Read the file content\n",
    "file_path = r'C:\\Users\\Samsung\\Desktop\\22_Internships\\ProgettoTesi-main\\Dati\\BUTTRIO\\matriceDistanze\\Grafo_singolo'\n",
    "with open(file_path, 'r') as file:\n",
    "    file_content = file.read()\n",
    "\n",
    "# Parse the file and create the graph\n",
    "nodes, edges = parse_graph(file_content)\n",
    "G = create_graph(nodes, edges)\n",
    "\n",
    "# Now you can use the graph G\n",
    "print(G.nodes(data=True))\n",
    "print(G.edges(data=True))\n"
   ]
  },
  {
   "cell_type": "markdown",
   "metadata": {},
   "source": [
    "## Second version (CURRENT)"
   ]
  },
  {
   "cell_type": "code",
   "execution_count": 16,
   "metadata": {},
   "outputs": [],
   "source": [
    "def parse_graph(file_content):\n",
    "    nodes = {}\n",
    "    edges = []\n",
    "\n",
    "    current_node = None\n",
    "    current_edge = None\n",
    "\n",
    "    for line in file_content.splitlines():\n",
    "        line = line.strip()\n",
    "        if line.startswith(\"node\"):\n",
    "            current_node = {}\n",
    "        elif line.startswith(\"edge\"):\n",
    "            current_edge = {}\n",
    "        elif line.startswith(\"id\"):\n",
    "            current_node['id'] = int(line.split()[1])\n",
    "        elif line.startswith(\"label\"):\n",
    "            current_node['label'] = line.split()[1].strip('\"')\n",
    "        elif line.startswith(\"pos\"):\n",
    "            if 'pos' in current_node:\n",
    "                current_node['pos'].append(float(line.split()[1]))\n",
    "            else:\n",
    "                current_node['pos'] = [float(line.split()[1])]\n",
    "        elif line.startswith(\"tipologia\"):\n",
    "            current_node['tipologia'] = line.split()[1].strip('\"')\n",
    "        elif line.startswith(\"locazione\"):\n",
    "            current_node['locazione'] = line.split()[1].strip('\"')\n",
    "        elif line.startswith(\"citta\"):\n",
    "            current_node['citta'] = int(line.split()[1])\n",
    "        elif line.startswith(\"ragazzi\"):\n",
    "            if 'ragazzi' in current_node:\n",
    "                current_node['ragazzi'].append(int(line.split()[1]))\n",
    "            else:\n",
    "                current_node['ragazzi'] = [int(line.split()[1])]\n",
    "        elif line.startswith(\"source\"):\n",
    "            current_edge['source'] = int(line.split()[1])\n",
    "        elif line.startswith(\"target\"):\n",
    "            current_edge['target'] = int(line.split()[1])\n",
    "        elif line.startswith(\"weight\"):\n",
    "            current_edge['weight'] = float(line.split()[1])\n",
    "        elif line.startswith(\"time\"):\n",
    "            current_edge['time'] = float(line.split()[1])\n",
    "        elif line == \"]\":\n",
    "            if current_node is not None:\n",
    "                # Ensure ragazzi list has 4 elements if necessary\n",
    "                if 'ragazzi' in current_node:\n",
    "                    while len(current_node['ragazzi']) < 4:\n",
    "                        current_node['ragazzi'].append(0)\n",
    "                nodes[current_node['id']] = current_node\n",
    "                current_node = None\n",
    "            if current_edge is not None:\n",
    "                edges.append(current_edge)\n",
    "                current_edge = None\n",
    "\n",
    "    return nodes, edges\n",
    "\n",
    "def create_graph(nodes, edges):\n",
    "    G = nx.DiGraph()  # Create a directed graph\n",
    "\n",
    "    for node_id, node_data in nodes.items():\n",
    "        G.add_node(node_id, **node_data)\n",
    "\n",
    "    for edge in edges:\n",
    "        G.add_edge(edge['source'], edge['target'], weight=edge['weight'], time=edge['time'])\n",
    "\n",
    "    return G\n",
    "    "
   ]
  },
  {
   "cell_type": "code",
   "execution_count": 35,
   "metadata": {},
   "outputs": [],
   "source": [
    "# Read the file content\n",
    "file_path = r'C:\\Users\\Samsung\\Desktop\\22_Internships\\ProgettoTesi-main\\Dati\\BUTTRIO\\matriceDistanze\\Grafo_singolo_real_testo.txt'\n",
    "with open(file_path, 'r') as file:\n",
    "    file_content = file.read()\n",
    "\n",
    "# Parse the file and create the graph\n",
    "nodes, edges = parse_graph(file_content)\n",
    "G = create_graph(nodes, edges)"
   ]
  },
  {
   "cell_type": "code",
   "execution_count": 36,
   "metadata": {},
   "outputs": [
    {
     "name": "stdout",
     "output_type": "stream",
     "text": [
      "(0, {'id': 0, 'label': '0', 'pos': [13.33352521881336, 46.010049138194574], 'tipologia': 'deposito'})\n",
      "(1, {'id': 1, 'label': '1', 'pos': [13.333070548499375, 46.011592135492116], 'tipologia': 'fermata', 'locazione': 'VIAIPPOLITONIEVO21', 'ragazzi': [2, 0, 0, 0]})\n",
      "(2, {'id': 2, 'label': '2', 'pos': [13.332481034239262, 46.00685608068721], 'tipologia': 'fermata', 'locazione': 'VIABELTRAME23', 'ragazzi': [0, 17, 0, 0]})\n",
      "(3, {'id': 3, 'label': '3', 'pos': [13.332006889588357, 46.011779665523946], 'tipologia': 'fermata', 'locazione': 'VIAGORIZIA17', 'ragazzi': [7, 4, 0, 0]})\n",
      "(4, {'id': 4, 'label': '4', 'pos': [13.339888208550311, 46.01912388511622], 'tipologia': 'fermata', 'locazione': 'VIALIPPE,FERMATAN.7', 'ragazzi': [0, 2, 0, 0]})\n",
      "(5, {'id': 5, 'label': '5', 'pos': [13.333202605873304, 46.018368509384324], 'tipologia': 'fermata', 'locazione': 'VIADEGANUTTI&#10;FERMATAN3', 'ragazzi': [0, 4, 0, 0]})\n",
      "(6, {'id': 6, 'label': '6', 'pos': [13.340102597322604, 45.99918361441391], 'tipologia': 'fermata', 'locazione': 'VIAS.GIACOMOTABELLAN25', 'ragazzi': [0, 2, 0, 0]})\n",
      "(7, {'id': 7, 'label': '7', 'pos': [13.330196205996709, 46.010729342446275], 'tipologia': 'fermata', 'locazione': \"VIAP.M.D'AVIANOFERMATAN&#176;21\", 'ragazzi': [0, 2, 0, 0]})\n",
      "(8, {'id': 8, 'label': '8', 'pos': [13.336214629037375, 46.01918358742248], 'tipologia': 'fermata', 'locazione': 'VIASTEFANUTTI,FERMATA5', 'ragazzi': [0, 1, 0, 0]})\n",
      "(9, {'id': 9, 'label': '9', 'pos': [13.339412764291803, 45.999314233519044], 'tipologia': 'fermata', 'locazione': 'VIATRIESTE13-FERMATA25', 'ragazzi': [0, 8, 0, 0]})\n",
      "(10, {'id': 10, 'label': '10', 'pos': [13.328366466259409, 46.020028788257015], 'tipologia': 'fermata', 'locazione': 'VIAUDINEFERMATA36', 'ragazzi': [0, 1, 0, 0]})\n",
      "(11, {'id': 11, 'label': '11', 'pos': [13.329696748576575, 46.01092472889287], 'tipologia': 'fermata', 'locazione': 'VIADIVISIONEJULIA,47', 'ragazzi': [0, 5, 0, 0]})\n",
      "(12, {'id': 12, 'label': '12', 'pos': [13.335574744098832, 46.02091466197524], 'tipologia': 'fermata', 'locazione': 'VIAA.MANZONI-FERMATANR.34', 'ragazzi': [1, 3, 0, 0]})\n",
      "(13, {'id': 13, 'label': '13', 'pos': [13.326947840304118, 46.01778681721185], 'tipologia': 'fermata', 'locazione': 'VIARONCUZ,FERMATA12', 'ragazzi': [0, 8, 0, 0]})\n",
      "(14, {'id': 14, 'label': '14', 'pos': [13.329811696254819, 46.015173106898395], 'tipologia': 'fermata', 'locazione': 'VIAPRADAMANO,FERMATA13', 'ragazzi': [4, 7, 0, 0]})\n",
      "(15, {'id': 15, 'label': '15', 'pos': [13.331240309217243, 46.008979472861995], 'tipologia': 'fermata', 'locazione': \"VIAP.M.D'AVIANOFERMATAN.20\", 'ragazzi': [0, 2, 0, 0]})\n",
      "(16, {'id': 16, 'label': '16', 'pos': [13.337971, 46.000032], 'tipologia': 'cluster'})\n",
      "(17, {'id': 17, 'label': '17', 'pos': [13.337188, 46.017635], 'tipologia': 'cluster'})\n",
      "\n",
      "(0, 1, {'weight': 174.43590656723543, 'time': 5.814530218907848})\n",
      "(0, 2, {'weight': 364.47050382091714, 'time': 12.14901679403057})\n",
      "(0, 3, {'weight': 252.11573927177233, 'time': 8.403857975725744})\n",
      "(0, 4, {'weight': 1210.2216076312898, 'time': 40.34072025437633})\n",
      "(0, 5, {'weight': 900.8508572996445, 'time': 30.028361909988153})\n",
      "(0, 6, {'weight': 1384.5418396285968, 'time': 46.15139465428656})\n",
      "(0, 7, {'weight': 377.41469049361956, 'time': 12.580489683120652})\n",
      "(0, 8, {'weight': 1032.572500691824, 'time': 34.41908335639413})\n",
      "(0, 9, {'weight': 1333.271911473912, 'time': 44.4423970491304})\n"
     ]
    }
   ],
   "source": [
    "# Print \n",
    "\n",
    "#print(G.nodes(data=True))\n",
    "#print(G.edges(data=True))\n",
    "\n",
    "for n in G.nodes(data=True):\n",
    "    if n[0] < 25 :\n",
    "        print(n)\n",
    "\n",
    "print()\n",
    "for e in G.edges(data=True):\n",
    "    if e[0] == 0 and e[1] < 10:\n",
    "        print(e)"
   ]
  },
  {
   "cell_type": "markdown",
   "metadata": {},
   "source": [
    "# Import distance and time matrices"
   ]
  },
  {
   "cell_type": "code",
   "execution_count": 8,
   "metadata": {},
   "outputs": [],
   "source": [
    "def read_excel_matrix(file_path):\n",
    "    try:\n",
    "        # Read the Excel file into a DataFrame\n",
    "        df = pd.read_excel(file_path, header=None)\n",
    "\n",
    "        # Convert the DataFrame to a 2D list\n",
    "        distance_matrix = df.values.tolist()\n",
    "\n",
    "        return distance_matrix\n",
    "\n",
    "    except Exception as e:\n",
    "        print(\"Error:\", e)\n"
   ]
  },
  {
   "cell_type": "code",
   "execution_count": 9,
   "metadata": {},
   "outputs": [
    {
     "name": "stdout",
     "output_type": "stream",
     "text": [
      "[nan, 0.0, 1.0, 2.0, 3.0, 4.0, 5.0, 6.0, 7.0, 8.0, 9.0, 10.0, 11.0, 12.0, 13.0, 14.0, 15.0, 16.0, 17.0]\n",
      "[0.0, 0.0, 360.4, 866.2, 164.9, 1053.0, 775.6, 2103.2, 253.6, 950.8, 1999.2, 965.2, 230.0, 1576.8, 868.4, 407.4, 480.6, 1896.7, 772.3]\n",
      "[1.0, 314.8, 0.0, 1110.2, 149.9, 1235.5, 958.0, 2347.2, 497.7, 1133.3, 2243.3, 1147.6, 474.0, 1759.2, 1050.9, 589.8, 724.6, 2140.7, 954.8]\n",
      "[2.0, 804.0, 1048.0, 0.0, 898.1, 1857.0, 1579.6, 1502.6, 681.0, 1754.8, 1398.6, 1769.2, 574.0, 2380.8, 1553.9, 1211.3, 907.9, 1296.0, 1576.3]\n",
      "[3.0, 164.9, 149.9, 960.3, 0.0, 1217.9, 940.5, 2197.3, 347.8, 1115.7, 2093.4, 1130.1, 324.1, 1741.7, 1033.3, 572.3, 574.7, 1990.8, 937.3]\n",
      "[4.0, 1053.0, 1235.5, 1919.2, 1217.9, 0.0, 673.0, 3156.2, 1306.7, 401.5, 3052.2, 1297.6, 1283.0, 523.8, 1320.2, 1112.4, 1533.6, 2949.7, 280.7]\n",
      "[5.0, 842.1, 1024.5, 1708.2, 1007.0, 673.0, 0.0, 2945.2, 1095.7, 385.8, 2841.3, 607.0, 1072.0, 939.0, 857.8, 800.5, 1322.6, 2738.7, 590.2]\n",
      "[6.0, 2041.0, 2285.0, 1502.6, 2135.2, 3094.0, 2816.6, 0.0, 1918.0, 2991.8, 103.9, 3006.2, 1811.0, 3617.8, 2790.9, 2448.4, 1512.9, 253.7, 2813.3]\n",
      "[7.0, 252.0, 496.0, 501.4, 346.2, 1305.0, 1027.6, 1738.5, 0.0, 1202.8, 1634.5, 1217.2, 134.2, 1828.8, 1120.4, 659.3, 226.9, 1531.9, 1024.3]\n",
      "[8.0, 1091.0, 1273.4, 1957.2, 1255.9, 401.5, 385.8, 3194.2, 1344.6, 0.0, 3090.2, 1010.4, 1321.0, 602.2, 1033.0, 975.7, 1571.6, 2987.7, 318.7]\n",
      "[9.0, 1937.1, 2181.1, 1398.6, 2031.2, 2990.1, 2712.6, 103.9, 1814.1, 2887.9, 0.0, 2902.2, 1707.1, 3513.8, 2687.0, 2344.4, 1408.9, 149.7, 2709.4]\n",
      "[10.0, 978.7, 1161.1, 1844.9, 1143.6, 1241.8, 568.7, 3081.9, 1232.3, 954.6, 2977.9, 0.0, 1208.7, 1507.7, 488.8, 571.3, 1459.3, 2875.4, 1158.9]\n",
      "[11.0, 230.0, 474.0, 636.2, 324.1, 1283.0, 1005.6, 1873.2, 107.0, 1180.8, 1769.3, 1195.1, 0.0, 1806.7, 1098.4, 637.3, 333.9, 1666.7, 1002.3]\n",
      "[12.0, 1576.8, 1759.2, 2442.9, 1741.7, 523.8, 939.0, 3680.0, 1830.4, 602.2, 3576.0, 1563.5, 1806.7, 0.0, 1586.1, 1636.1, 2057.3, 3473.4, 804.4]\n",
      "[13.0, 868.4, 1050.9, 1543.8, 1033.3, 1361.9, 1057.5, 2780.9, 1122.0, 1259.7, 2676.9, 488.8, 1098.4, 1885.7, 0.0, 461.1, 1349.0, 2574.3, 1081.2]\n",
      "[14.0, 407.4, 589.8, 1273.5, 572.3, 1112.4, 834.9, 2510.5, 661.0, 1010.2, 2406.6, 571.3, 637.3, 1636.1, 461.1, 0.0, 887.9, 2304.0, 831.7]\n",
      "[15.0, 478.9, 723.0, 274.5, 573.1, 1531.9, 1254.5, 1511.5, 226.9, 1429.7, 1407.6, 1444.1, 361.2, 2055.7, 1516.7, 886.3, 0.0, 1305.0, 1251.3]\n",
      "[16.0, 1834.5, 2078.5, 1296.0, 1928.6, 2887.5, 2610.1, 253.7, 1711.5, 2785.3, 149.7, 2799.7, 1604.5, 3411.3, 2584.4, 2241.8, 1306.3, 0.0, 2606.8]\n",
      "[17.0, 772.3, 954.8, 1638.5, 937.3, 280.7, 590.2, 2875.5, 1026.0, 318.7, 2771.6, 1079.9, 1002.3, 804.4, 1102.5, 831.7, 1252.9, 2669.0, 0.0]\n"
     ]
    }
   ],
   "source": [
    "# Application\n",
    "file_path = r'C:\\Users\\Samsung\\Desktop\\22_Internships\\ProgettoTesi-main\\Dati\\BUTTRIO\\matriceDistanze\\DistanceMatrix.xlsx'\n",
    "distance_matrix = read_excel_matrix(file_path)\n",
    "\n",
    "for r in distance_matrix:\n",
    "    print(r)"
   ]
  },
  {
   "cell_type": "code",
   "execution_count": 10,
   "metadata": {},
   "outputs": [
    {
     "name": "stdout",
     "output_type": "stream",
     "text": [
      "[nan, 0.0, 1.0, 2.0, 3.0, 4.0, 5.0, 6.0, 7.0, 8.0, 9.0, 10.0, 11.0, 12.0, 13.0, 14.0, 15.0, 16.0, 17.0]\n",
      "[0.0, 0.0, 49.2, 80.0, 24.7, 93.2, 78.4, 204.3, 30.0, 98.6, 181.7, 87.5, 20.7, 174.2, 90.1, 44.1, 62.7, 168.2, 69.8]\n",
      "[1.0, 48.8, 0.0, 128.7, 26.3, 126.4, 111.6, 253.0, 78.7, 131.8, 230.4, 120.7, 69.4, 207.4, 123.3, 77.3, 111.4, 216.9, 103.0]\n",
      "[2.0, 80.8, 128.9, 0.0, 100.5, 174.0, 159.2, 167.6, 76.9, 179.4, 145.0, 168.3, 60.1, 255.0, 151.7, 124.9, 109.6, 131.5, 150.6]\n",
      "[3.0, 22.5, 28.4, 102.4, 0.0, 115.7, 100.9, 226.7, 52.4, 121.1, 204.1, 110.0, 43.1, 196.7, 112.6, 66.6, 85.1, 190.6, 92.3]\n",
      "[4.0, 93.3, 129.8, 173.3, 118.0, 0.0, 63.9, 297.6, 123.3, 39.8, 275.0, 120.6, 114.0, 81.0, 123.7, 98.4, 156.0, 261.5, 23.1]\n",
      "[5.0, 95.4, 131.9, 175.4, 120.1, 67.2, 0.0, 299.7, 125.4, 49.7, 277.1, 57.8, 116.1, 138.6, 82.8, 83.0, 158.1, 263.6, 63.1]\n",
      "[6.0, 202.4, 250.5, 169.6, 222.1, 295.6, 280.8, 0.0, 198.5, 301.0, 21.0, 289.9, 181.7, 376.6, 273.3, 246.5, 199.1, 47.2, 272.2]\n",
      "[7.0, 28.4, 76.5, 76.2, 48.1, 121.6, 106.8, 200.5, 0.0, 127.0, 177.9, 115.9, 22.2, 202.6, 118.5, 72.5, 32.7, 164.4, 98.2]\n",
      "[8.0, 110.8, 147.3, 190.8, 135.5, 44.7, 44.7, 315.1, 140.8, 0.0, 292.5, 101.4, 131.5, 97.0, 104.5, 104.7, 173.5, 279.0, 40.6]\n",
      "[9.0, 181.4, 229.5, 148.6, 201.1, 274.6, 259.8, 22.6, 177.5, 280.0, 0.0, 268.9, 160.7, 355.6, 252.3, 225.5, 178.1, 26.2, 251.2]\n",
      "[10.0, 94.3, 130.8, 174.3, 119.0, 120.7, 53.5, 298.6, 124.3, 103.2, 276.0, 0.0, 115.0, 192.1, 50.3, 51.4, 157.0, 262.5, 116.6]\n",
      "[11.0, 20.7, 68.8, 59.3, 40.4, 113.9, 99.1, 183.6, 16.8, 119.3, 161.0, 108.2, 0.0, 194.9, 110.8, 64.8, 49.5, 147.5, 90.5]\n",
      "[12.0, 171.1, 207.6, 251.1, 195.8, 77.8, 127.6, 375.4, 201.1, 94.6, 352.8, 184.3, 191.8, 0.0, 187.4, 176.2, 233.8, 339.3, 100.9]\n",
      "[13.0, 89.5, 126.0, 148.2, 114.2, 137.6, 104.9, 272.5, 119.5, 143.0, 249.9, 51.4, 110.2, 218.6, 0.0, 46.6, 152.2, 236.4, 114.2]\n",
      "[14.0, 42.9, 79.4, 122.9, 67.6, 100.0, 85.2, 247.2, 72.9, 105.4, 224.6, 51.7, 63.6, 181.0, 46.0, 0.0, 105.6, 211.1, 76.6]\n",
      "[15.0, 61.1, 109.2, 43.5, 80.8, 154.3, 139.5, 167.8, 32.7, 159.7, 145.2, 148.6, 54.9, 235.3, 147.9, 105.2, 0.0, 131.7, 130.9]\n",
      "[16.0, 171.1, 219.2, 138.3, 190.8, 264.3, 249.5, 46.0, 167.2, 269.7, 23.4, 258.6, 150.4, 345.3, 242.0, 215.2, 167.8, 0.0, 240.9]\n",
      "[17.0, 70.2, 106.7, 150.2, 94.9, 23.4, 64.6, 274.5, 100.2, 40.5, 251.9, 102.9, 90.9, 104.4, 106.0, 75.3, 132.9, 238.4, 0.0]\n"
     ]
    }
   ],
   "source": [
    "# Application\n",
    "file_path = r'C:\\Users\\Samsung\\Desktop\\22_Internships\\ProgettoTesi-main\\Dati\\BUTTRIO\\matriceDistanze\\TimeMatrix.xlsx'\n",
    "distance_matrix = read_excel_matrix(file_path)\n",
    "\n",
    "for r in distance_matrix:\n",
    "    print(r)"
   ]
  }
 ],
 "metadata": {
  "kernelspec": {
   "display_name": "base",
   "language": "python",
   "name": "python3"
  },
  "language_info": {
   "codemirror_mode": {
    "name": "ipython",
    "version": 3
   },
   "file_extension": ".py",
   "mimetype": "text/x-python",
   "name": "python",
   "nbconvert_exporter": "python",
   "pygments_lexer": "ipython3",
   "version": "3.12.3"
  }
 },
 "nbformat": 4,
 "nbformat_minor": 2
}
