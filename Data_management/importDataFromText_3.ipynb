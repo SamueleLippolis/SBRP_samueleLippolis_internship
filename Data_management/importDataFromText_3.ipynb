{
 "cells": [
  {
   "cell_type": "markdown",
   "metadata": {},
   "source": [
    "# Import data from text"
   ]
  },
  {
   "cell_type": "code",
   "execution_count": 1,
   "metadata": {},
   "outputs": [],
   "source": [
    "import networkx as nx  # Library for creating, manipulating, and studying the structure, dynamics, and functions of complex networks.\n",
    "import pandas as pd  # Library for data manipulation and analysis. Provides data structures and functions for efficiently working with structured data.\n",
    "import csv  # Library for reading and writing CSV files. Provides functionality to work with comma-separated values.\n",
    "import ast  # Library for parsing and evaluating Python literals. Provides functions to safely evaluate strings containing Python expressions.\n",
    "import os  # Library for interacting with the operating system. Provides functions for file and directory manipulation, environment variables, etc.\n",
    "\n",
    "import importDataFromText_functions as importData  # Import the functions from the importDataFromText_functions.py file"
   ]
  },
  {
   "cell_type": "code",
   "execution_count": 6,
   "metadata": {},
   "outputs": [],
   "source": [
    "def fromTextToCsvs(\n",
    "        pathOfTextFile,\n",
    "        distanceMatrixPath,\n",
    "        timeMatrixPath,\n",
    "        folderName,\n",
    "        nodesCsvFileName, \n",
    "        edgesCsvFileName,\n",
    "        distanceMatrixFileName,\n",
    "        timeMatrixFileName):\n",
    "\n",
    "    # Read the file content\n",
    "    file_content = importData.read_file(pathOfTextFile)\n",
    "\n",
    "    # Parse the file and create the graph\n",
    "    nodes, edges = importData.parse_graph(file_content)\n",
    "    G = importData.create_graph(nodes, edges)\n",
    "\n",
    "    # Write the node data to a CSV file\n",
    "    importData.write_nodes_to_csv(nodes=nodes,folder_name=folderName,filename=nodesCsvFileName)\n",
    "    importData.write_edges_to_csv(edges=edges,folder_name=folderName,filename=edgesCsvFileName)\n",
    "\n",
    "    # Read the distance matrix from the Excel file\n",
    "    distance_matrix = importData.read_excel_matrix(distanceMatrixPath)\n",
    "    time_matrix = importData.read_excel_matrix(timeMatrixPath)\n",
    "\n",
    "    # Write the distance matrix to a CSV file\n",
    "    importData.write_matrix_to_csv(matrix=distance_matrix, folder_name=folderName,filename=distanceMatrixFileName)\n",
    "    importData.write_matrix_to_csv(matrix=time_matrix, folder_name=folderName,filename=timeMatrixFileName)\n"
   ]
  },
  {
   "cell_type": "code",
   "execution_count": 7,
   "metadata": {},
   "outputs": [
    {
     "name": "stdout",
     "output_type": "stream",
     "text": [
      "Matrix has been written to BUTTRIO_exctractedData/buttrio_distanceMatrix.csv\n",
      "Matrix has been written to BUTTRIO_exctractedData/buttrio_timeMatrix.csv\n"
     ]
    }
   ],
   "source": [
    "pathOfTextFile = r'/home/samuele/Desktop/22_internship/SBRP_samueleLippolis_internship/Data/BUTTRIO/matriceDistanze/Grafo_singolo_real_testo.txt'\n",
    "distanceMatrixPath = r'/home/samuele/Desktop/22_internship/SBRP_samueleLippolis_internship/Data/BUTTRIO/matriceDistanze/DistanceMatrix.xlsx'\n",
    "timeMatrixPath = r'/home/samuele/Desktop/22_internship/SBRP_samueleLippolis_internship/Data/BUTTRIO/matriceDistanze/TimeMatrix.xlsx'\n",
    "folder_name = \"BUTTRIO_exctractedData\"\n",
    "nodesCsvFileName = 'buttrio_nodes.csv'\n",
    "edgesCsvFileName = 'buttrio_edges.csv'\n",
    "distanceMatrixFIleName = 'buttrio_distanceMatrix.csv'\n",
    "timeMatrixFIleName = 'buttrio_timeMatrix.csv'\n",
    "\n",
    "fromTextToCsvs(\n",
    "    pathOfTextFile=pathOfTextFile,\n",
    "    distanceMatrixPath=distanceMatrixPath,\n",
    "    timeMatrixPath=timeMatrixPath,\n",
    "    folderName=folder_name,\n",
    "    nodesCsvFileName=nodesCsvFileName,\n",
    "    edgesCsvFileName=edgesCsvFileName,\n",
    "    distanceMatrixFileName=distanceMatrixFIleName,\n",
    "    timeMatrixFileName=timeMatrixFIleName\n",
    ")"
   ]
  }
 ],
 "metadata": {
  "kernelspec": {
   "display_name": "Python 3",
   "language": "python",
   "name": "python3"
  },
  "language_info": {
   "codemirror_mode": {
    "name": "ipython",
    "version": 3
   },
   "file_extension": ".py",
   "mimetype": "text/x-python",
   "name": "python",
   "nbconvert_exporter": "python",
   "pygments_lexer": "ipython3",
   "version": "3.10.12"
  }
 },
 "nbformat": 4,
 "nbformat_minor": 2
}
